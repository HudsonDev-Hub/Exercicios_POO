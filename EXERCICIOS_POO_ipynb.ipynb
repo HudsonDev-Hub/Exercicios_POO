{
  "nbformat": 4,
  "nbformat_minor": 0,
  "metadata": {
    "colab": {
      "provenance": [],
      "include_colab_link": true
    },
    "kernelspec": {
      "name": "python3",
      "display_name": "Python 3"
    },
    "language_info": {
      "name": "python"
    }
  },
  "cells": [
    {
      "cell_type": "markdown",
      "metadata": {
        "id": "view-in-github",
        "colab_type": "text"
      },
      "source": [
        "<a href=\"https://colab.research.google.com/github/HudsonDev-Hub/Exercicios_POO/blob/main/EXERCICIOS_POO_ipynb.ipynb\" target=\"_parent\"><img src=\"https://colab.research.google.com/assets/colab-badge.svg\" alt=\"Open In Colab\"/></a>"
      ]
    },
    {
      "cell_type": "markdown",
      "source": [
        "Livro no GitHub - POO com Python\n",
        "Exercicios Resolvidos\n",
        "\n"
      ],
      "metadata": {
        "id": "ys-Z-1oyQ_7s"
      }
    },
    {
      "cell_type": "code",
      "source": [
        "   print('Meu primeiro programa \\n olá mundo')"
      ],
      "metadata": {
        "colab": {
          "base_uri": "https://localhost:8080/"
        },
        "id": "x_nZTiQoRIPj",
        "outputId": "efed9a1e-f8bb-44f7-8110-076883c9ce60"
      },
      "execution_count": null,
      "outputs": [
        {
          "output_type": "stream",
          "name": "stdout",
          "text": [
            "Meu primeiro programa \n",
            " olá mundo\n"
          ]
        }
      ]
    },
    {
      "cell_type": "markdown",
      "source": [
        "Capitulo 3 exercicio : jogo de Adivinhação"
      ],
      "metadata": {
        "id": "A6D83VoFb4H9"
      }
    },
    {
      "cell_type": "code",
      "source": [
        "print('******************************')\n",
        "print('*    Jogo da adivinhação     *')\n",
        "print('******************************')\n",
        "\n",
        "numero_secreto = 42\n",
        "\n",
        "chute = int(input('Digite o seu número: '))\n",
        "print('Você digitou:', chute)\n",
        "\n",
        "acertou = chute == numero_secreto\n",
        "maior = chute > numero_secreto\n",
        "menor = chute < numero_secreto\n",
        "\n",
        "if numero_secreto == chute:\n",
        "    print('Você acertou!')\n",
        "elif chute > numero_secreto:\n",
        "    print('Você errou! O seu chute foi maior que o número secreto')\n",
        "else:\n",
        "    print('Você errou! O seu chute foi menor que o número secreto')\n",
        "\n",
        "    print('fim de Jogo!')\n"
      ],
      "metadata": {
        "colab": {
          "base_uri": "https://localhost:8080/"
        },
        "id": "H-egYb1rcFCS",
        "outputId": "fec00d69-b668-454f-bc49-ed17cab92611"
      },
      "execution_count": null,
      "outputs": [
        {
          "output_type": "stream",
          "name": "stdout",
          "text": [
            "******************************\n",
            "*    Jogo da adivinhação     *\n",
            "******************************\n",
            "Digite o seu número: 44\n",
            "Você digitou: 44\n",
            "Você errou! O seu chute foi maior que o número secreto\n"
          ]
        }
      ]
    },
    {
      "cell_type": "markdown",
      "source": [
        "Capitulo 3: jogo com While"
      ],
      "metadata": {
        "id": "VhD1trF6jb3z"
      }
    },
    {
      "cell_type": "code",
      "source": [
        "numero_secreto = 42\n",
        "total_de_tentativas = 3\n",
        "rodada = 1\n",
        "\n",
        "while rodada <= total_de_tentativas:\n",
        "    print('Tentativa {} de {}'.format(rodada, total_de_tentativas))\n",
        "\n",
        "    chute = int(input('Digite o seu número: '))\n",
        "    print('Você digitou:', chute)\n",
        "\n",
        "    acertou = numero_secreto == chute\n",
        "    maior = chute > numero_secreto\n",
        "    menor = chute < numero_secreto\n",
        "\n",
        "    if acertou:\n",
        "        print('Você acertou!')\n",
        "        break\n",
        "    elif maior:\n",
        "        print('Você errou! O seu chute foi maior que o número secreto')\n",
        "    elif menor:\n",
        "        print('Você errou! O seu chute foi menor que o número secreto')\n",
        "\n",
        "    rodada = rodada + 1\n",
        "\n",
        "print('Fim do jogo')\n"
      ],
      "metadata": {
        "colab": {
          "base_uri": "https://localhost:8080/"
        },
        "id": "oLJ8K4oLjiBi",
        "outputId": "1081cdc2-dc7d-4369-eb9d-0d7aa4b9be51"
      },
      "execution_count": null,
      "outputs": [
        {
          "output_type": "stream",
          "name": "stdout",
          "text": [
            "Tentativa 1 de 3\n",
            "Digite o seu número: 41\n",
            "Você digitou: 41\n",
            "Você errou! O seu chute foi menor que o número secreto\n",
            "Tentativa 2 de 3\n",
            "Digite o seu número: 40\n",
            "Você digitou: 40\n",
            "Você errou! O seu chute foi menor que o número secreto\n",
            "Tentativa 3 de 3\n",
            "Digite o seu número: 42\n",
            "Você digitou: 42\n",
            "Você acertou!\n",
            "Fim do jogo\n"
          ]
        }
      ]
    },
    {
      "cell_type": "markdown",
      "source": [
        "Capitulo 3 Utilizando o para no jogo"
      ],
      "metadata": {
        "id": "Hy3-CXM6kmjD"
      }
    },
    {
      "cell_type": "code",
      "source": [
        "\tnumero_secreto = 42\n",
        "total_de_tentativas = 3\n",
        "\n",
        "for rodada in range(1, total_de_tentativas + 1):\n",
        "    print('Tentativa {} de {}'.format(rodada, total_de_tentativas))\n",
        "\n",
        "    chute = int(input('Digite o seu número: '))\n",
        "    print('Você digitou:', chute)\n",
        "\n",
        "    acertou = numero_secreto == chute\n",
        "    maior = chute > numero_secreto\n",
        "    menor = chute < numero_secreto\n",
        "\n",
        "    if acertou:\n",
        "        print('Você acertou!')\n",
        "        break\n",
        "    elif maior:\n",
        "        print('Você errou! O seu chute foi maior que o número secreto')\n",
        "    elif menor:\n",
        "        print('Você errou! O seu chute foi menor que o número secreto')\n",
        "\n",
        "print('Fim do jogo!')\n"
      ],
      "metadata": {
        "colab": {
          "base_uri": "https://localhost:8080/"
        },
        "id": "VEX7RLn1ksKi",
        "outputId": "9e96ce59-a27e-471d-d55a-ff0eca0a9520"
      },
      "execution_count": null,
      "outputs": [
        {
          "output_type": "stream",
          "name": "stdout",
          "text": [
            "Tentativa 1 de 3\n",
            "Digite o seu número: 40\n",
            "Você digitou: 40\n",
            "Você errou! O seu chute foi menor que o número secreto\n",
            "Tentativa 2 de 3\n",
            "Digite o seu número: 33\n",
            "Você digitou: 33\n",
            "Você errou! O seu chute foi menor que o número secreto\n",
            "Tentativa 3 de 3\n",
            "Digite o seu número: 55\n",
            "Você digitou: 55\n",
            "Você errou! O seu chute foi maior que o número secreto\n",
            "Fim do jogo!\n"
          ]
        }
      ]
    },
    {
      "cell_type": "markdown",
      "source": [
        "Capitulo 5: exercicio da Forca"
      ],
      "metadata": {
        "id": "r0YKXp0wlqvr"
      }
    },
    {
      "cell_type": "code",
      "source": [
        "    def jogar():\n",
        "     print('*********************************')\n",
        "    print('***Bem-vindo ao jogo da Forca!***')\n",
        "    print('*********************************')\n",
        "\n",
        "    palavra_secreta = 'Futebol'.upper()\n",
        "    letras_acertadas = ['_' for letra in palavra_secreta]\n",
        "\n",
        "    enforcou = False\n",
        "    acertou = False\n",
        "    erros = 0\n",
        "\n",
        "    print(letras_acertadas)\n",
        "\n",
        "    while not enforcou and not acertou:\n",
        "        chute = input(\"Qual letra? \").strip().upper()\n",
        "\n",
        "        if chute in palavra_secreta:\n",
        "            for i, letra in enumerate(palavra_secreta):\n",
        "                if chute == letra:\n",
        "                    letras_acertadas[i] = letra\n",
        "        else:\n",
        "            erros += 1\n",
        "\n",
        "        enforcou = erros == 7\n",
        "        acertou = '_' not in letras_acertadas\n",
        "        print(letras_acertadas)\n",
        "\n",
        "    if acertou:\n",
        "        print('Você ganhou!!')\n",
        "    else:\n",
        "        print('Você perdeu!!')\n",
        "    print('Fim do jogo')\n",
        "\n",
        "\n",
        "# Para rodar o jogo\n",
        "jogar()\n"
      ],
      "metadata": {
        "colab": {
          "base_uri": "https://localhost:8080/"
        },
        "id": "YT9dqW87lw-i",
        "outputId": "9dc83ccc-80b0-4c85-f096-5e8ac03d5e59"
      },
      "execution_count": null,
      "outputs": [
        {
          "output_type": "stream",
          "name": "stdout",
          "text": [
            "***Bem-vindo ao jogo da Forca!***\n",
            "*********************************\n",
            "['_', '_', '_', '_', '_', '_', '_']\n",
            "Qual letra? o\n",
            "['_', '_', '_', '_', '_', 'O', '_']\n",
            "Qual letra? f\n",
            "['F', '_', '_', '_', '_', 'O', '_']\n",
            "Qual letra? j\n",
            "['F', '_', '_', '_', '_', 'O', '_']\n",
            "Qual letra? w\n",
            "['F', '_', '_', '_', '_', 'O', '_']\n",
            "Qual letra? z\n",
            "['F', '_', '_', '_', '_', 'O', '_']\n",
            "Qual letra? a\n",
            "['F', '_', '_', '_', '_', 'O', '_']\n",
            "Qual letra? h\n",
            "['F', '_', '_', '_', '_', 'O', '_']\n",
            "Qual letra? k\n",
            "['F', '_', '_', '_', '_', 'O', '_']\n",
            "Qual letra? y\n",
            "['F', '_', '_', '_', '_', 'O', '_']\n",
            "Você perdeu!!\n",
            "Fim do jogo\n",
            "*********************************\n"
          ]
        }
      ]
    },
    {
      "cell_type": "markdown",
      "source": [
        "Capitulo 6: Exercicio de Funções"
      ],
      "metadata": {
        "id": "q9yZ8A4AdwlZ"
      }
    },
    {
      "cell_type": "code",
      "source": [
        "# Função da divisão\n",
        "def divisao(a, b):\n",
        "    if b == 0:\n",
        "        return \"Erro: divisão por zero.\"\n",
        "    return a / b\n",
        "\n",
        "# Função de velocidade média usando a função de divisão\n",
        "def velocidade_média(distancia, tempo):\n",
        "    if tempo == 0:\n",
        "        return \"Erro: o tempo não pode ser zero.\"\n",
        "    return divisao(distancia, tempo)\n",
        "\n",
        "# Função de soma\n",
        "def soma(a, b):\n",
        "    return a + b\n",
        "\n",
        "# Função de subtração\n",
        "def subtracao(a, b):\n",
        "    return a - b\n",
        "\n",
        "# Função calculadora (soma, subtração, multiplicação, divisão)\n",
        "def calculadora(a, b):\n",
        "    resultados = {\n",
        "        \"soma\": soma(a, b),\n",
        "        \"subtração\": subtracao(a, b),\n",
        "        \"multiplicação\": a * b,\n",
        "        \"divisão\": divisao(a, b)\n",
        "    }\n",
        "    return resultados\n",
        "\n",
        "# Testes da função velocidade_média\n",
        "print(\"Testes da função velocidade_média():\")\n",
        "print(\"a.\", velocidade_média(100, 20))   # Deve retornar 5.0\n",
        "print(\"b.\", velocidade_média(-20, 10))   # Deve retornar -2.0\n",
        "print(\"c.\", velocidade_média(150, 0))    # Deve retornar mensagem de erro\n",
        "\n",
        "# Testes da função calculadora\n",
        "print(\"\\nTestes da função calculadora():\")\n",
        "print(\"Exemplo 1:\", calculadora(10, 5))\n",
        "# {'soma': 15, 'subtração': 5, 'multiplicação': 50, 'divisão': 2.0}\n",
        "\n",
        "print(\"Exemplo 2:\", calculadora(7, 0))\n",
        "# {'soma': 7, 'subtração': 7, 'multiplicação': 0, 'divisão': 'Erro: divisão por zero.'}\n",
        "\n",
        "# Testes adicionais da função velocidade_média (opcional)\n",
        "print(\"\\nTestes adicionais de velocidade_média():\")\n",
        "print(\"Distância: 100, Tempo: 20 ->\", velocidade_média(100, 20))\n",
        "print(\"Distância: 150, Tempo: 22 ->\", velocidade_média(150, 22))\n",
        "print(\"Distância: 200, Tempo: 30 ->\", velocidade_média(200, 30))\n",
        "print(\"Distância: 50, Tempo: 3 ->\", velocidade_média(50, 3))\n"
      ],
      "metadata": {
        "colab": {
          "base_uri": "https://localhost:8080/"
        },
        "id": "R-7t7He1d1p5",
        "outputId": "e2558df9-ef1a-4337-e366-2b6bff49e4b6"
      },
      "execution_count": null,
      "outputs": [
        {
          "output_type": "stream",
          "name": "stdout",
          "text": [
            "Testes da função velocidade_média():\n",
            "a. 5.0\n",
            "b. -2.0\n",
            "c. Erro: o tempo não pode ser zero.\n",
            "\n",
            "Testes da função calculadora():\n",
            "Exemplo 1: {'soma': 15, 'subtração': 5, 'multiplicação': 50, 'divisão': 2.0}\n",
            "Exemplo 2: {'soma': 7, 'subtração': 7, 'multiplicação': 0, 'divisão': 'Erro: divisão por zero.'}\n",
            "\n",
            "Testes adicionais de velocidade_média():\n",
            "Distância: 100, Tempo: 20 -> 5.0\n",
            "Distância: 150, Tempo: 22 -> 6.818181818181818\n",
            "Distância: 200, Tempo: 30 -> 6.666666666666667\n",
            "Distância: 50, Tempo: 3 -> 16.666666666666668\n"
          ]
        }
      ]
    },
    {
      "cell_type": "markdown",
      "source": [
        "Capitulo 6: Exercicios Args e kwargs"
      ],
      "metadata": {
        "id": "ZS0bjBz_mqgg"
      }
    },
    {
      "cell_type": "code",
      "source": [
        "def teste_args_kwargs(arg1, arg2, arg3):\n",
        "    print(\"arg1:\", arg1)\n",
        "    print(\"arg2:\", arg2)\n",
        "    print(\"arg3:\", arg3)\n",
        "\n",
        "args = ('um', 2, 3)\n",
        "teste_args_kwargs(*args)\n",
        "\n",
        "kwargs = {'arg1': 'um', 'arg2': 2, 'arg3': 3}\n",
        "teste_args_kwargs(**kwargs)\n",
        "# Para resolver possiveis problemas no codigo seria se atentar aos erros de sintaxe e de identação.\n"
      ],
      "metadata": {
        "colab": {
          "base_uri": "https://localhost:8080/"
        },
        "id": "41h7kK-0s86n",
        "outputId": "f466512d-1e93-4264-8f2f-e8bc0e48a51f"
      },
      "execution_count": null,
      "outputs": [
        {
          "output_type": "stream",
          "name": "stdout",
          "text": [
            "arg1: um\n",
            "arg2: 2\n",
            "arg3: 3\n",
            "arg1: um\n",
            "arg2: 2\n",
            "arg3: 3\n"
          ]
        }
      ]
    },
    {
      "cell_type": "markdown",
      "source": [
        "Capitulo 6: Exercicio função jogar"
      ],
      "metadata": {
        "id": "2fdP-CS2uPan"
      }
    },
    {
      "cell_type": "code",
      "source": [
        "def jogar_forca():\n",
        "    print('*********************************')\n",
        "    print('*** Bem-vindo ao jogo da Forca! ***')\n",
        "    print('*********************************')\n",
        "\n",
        "    palavra_secreta = 'Futebol'.upper()\n",
        "    letras_acertadas = ['_' for letra in palavra_secreta]\n",
        "\n",
        "    enforcou = False\n",
        "    acertou = False\n",
        "    erros = 0\n",
        "\n",
        "    print(letras_acertadas)\n",
        "\n",
        "    while not enforcou and not acertou:\n",
        "        chute = input(\"Qual letra? \").strip().upper()\n",
        "\n",
        "        if chute in palavra_secreta:\n",
        "            for i, letra in enumerate(palavra_secreta):\n",
        "                if chute == letra:\n",
        "                    letras_acertadas[i] = letra\n",
        "        else:\n",
        "            erros += 1\n",
        "\n",
        "        enforcou = erros == 7\n",
        "        acertou = '_' not in letras_acertadas\n",
        "        print(letras_acertadas)\n",
        "\n",
        "    if acertou:\n",
        "        print('Você ganhou!!')\n",
        "    else:\n",
        "        print('Você perdeu!!')\n",
        "    print('Fim do jogo')\n",
        "\n",
        "\n",
        "def jogar_adivinhacao():\n",
        "    print('*********************************')\n",
        "    print('*** Bem-vindo ao jogo de Adivinhação! ***')\n",
        "    print('*********************************')\n",
        "\n",
        "    numero_secreto = 42\n",
        "    total_de_tentativas = 3\n",
        "\n",
        "    for rodada in range(1, total_de_tentativas + 1):\n",
        "        print(f'Tentativa {rodada} de {total_de_tentativas}')\n",
        "        chute = int(input('Digite o seu número: '))\n",
        "        print('Você digitou:', chute)\n",
        "\n",
        "        acertou = numero_secreto == chute\n",
        "        maior = chute > numero_secreto\n",
        "        menor = chute < numero_secreto\n",
        "\n",
        "        if acertou:\n",
        "            print('Você acertou!')\n",
        "            break\n",
        "        elif maior:\n",
        "            print('Você errou! O seu chute foi maior que o número secreto.')\n",
        "        elif menor:\n",
        "            print('Você errou! O seu chute foi menor que o número secreto.')\n",
        "\n",
        "    print('Fim do jogo!')\n",
        "\n",
        "\n",
        "def escolher_jogo():\n",
        "    print('*********************************')\n",
        "    print('********** MENU DE JOGOS **********')\n",
        "    print('*********************************')\n",
        "    print(\"1. Adivinhação\")\n",
        "    print(\"2. Forca\")\n",
        "\n",
        "    escolha = int(input(\"Qual jogo quer jogar? Digite o número: \"))\n",
        "\n",
        "    if escolha == 1:\n",
        "        jogar_adivinhacao()\n",
        "    elif escolha == 2:\n",
        "        jogar_forca()\n",
        "    else:\n",
        "        print(\"Opção inválida. Tente novamente.\")\n",
        "\n",
        "\n",
        "# Inicia o menu principal\n",
        "escolher_jogo()"
      ],
      "metadata": {
        "colab": {
          "base_uri": "https://localhost:8080/"
        },
        "id": "o1toNN_FvIk_",
        "outputId": "1a3af38b-65f9-4e20-9381-23afa069a465"
      },
      "execution_count": null,
      "outputs": [
        {
          "output_type": "stream",
          "name": "stdout",
          "text": [
            "*********************************\n",
            "********** MENU DE JOGOS **********\n",
            "*********************************\n",
            "1. Adivinhação\n",
            "2. Forca\n",
            "Qual jogo quer jogar? Digite o número: 1\n",
            "*********************************\n",
            "*** Bem-vindo ao jogo de Adivinhação! ***\n",
            "*********************************\n",
            "Tentativa 1 de 3\n",
            "Digite o seu número: 40\n",
            "Você digitou: 40\n",
            "Você errou! O seu chute foi menor que o número secreto.\n",
            "Tentativa 2 de 3\n",
            "Digite o seu número: 41\n",
            "Você digitou: 41\n",
            "Você errou! O seu chute foi menor que o número secreto.\n",
            "Tentativa 3 de 3\n",
            "Digite o seu número: 42\n",
            "Você digitou: 42\n",
            "Você acertou!\n",
            "Fim do jogo!\n"
          ]
        }
      ]
    },
    {
      "cell_type": "markdown",
      "source": [
        "Capitulo 7: Exercicio Arquivos"
      ],
      "metadata": {
        "id": "ucGpFZwUyLGX"
      }
    },
    {
      "cell_type": "code",
      "source": [
        "# arquivo.py\n",
        "\n",
        "arquivo = open(\"palavras.txt\", \"w\")\n",
        "\n",
        "arquivo.write('banana\\n')\n",
        "arquivo.write('melancia\\n')\n",
        "arquivo.write('morango\\n')\n",
        "arquivo.write('manga\\n')\n",
        "\n",
        "arquivo.close()\n"
      ],
      "metadata": {
        "id": "ZT_sC6xgyTWu"
      },
      "execution_count": null,
      "outputs": []
    },
    {
      "cell_type": "markdown",
      "source": [
        "Capitulo 7: Exercicios de leitura de arquivos"
      ],
      "metadata": {
        "id": "BKodDBsx2erY"
      }
    },
    {
      "cell_type": "code",
      "source": [
        "import random\n",
        "\n",
        "print(\"*********************************\")\n",
        "print(\"*** Bem-vindo ao jogo da Forca! ***\")\n",
        "print(\"*********************************\")\n",
        "\n",
        "# Abrindo e lendo as palavras do arquivo\n",
        "arquivo = open(\"palavras.txt\", \"r\")\n",
        "palavras = []\n",
        "\n",
        "for linha in arquivo:\n",
        "    linha = linha.strip()\n",
        "    palavras.append(linha)\n",
        "\n",
        "arquivo.close()\n",
        "\n",
        "# Escolhendo uma palavra aleatória\n",
        "numero = random.randrange(0, len(palavras))\n",
        "palavra_secreta = palavras[numero].upper()\n",
        "\n",
        "# Criando a estrutura com letras ocultas\n",
        "letras_acertadas = ['_' for letra in palavra_secreta]\n",
        "\n",
        "print(letras_acertadas)\n"
      ],
      "metadata": {
        "colab": {
          "base_uri": "https://localhost:8080/"
        },
        "id": "DCqMxmhz2lKB",
        "outputId": "b800719b-1d2d-4c33-bb39-4aa8380c583b"
      },
      "execution_count": null,
      "outputs": [
        {
          "output_type": "stream",
          "name": "stdout",
          "text": [
            "*********************************\n",
            "*** Bem-vindo ao jogo da Forca! ***\n",
            "*********************************\n",
            "['_', '_', '_', '_', '_', '_', '_']\n"
          ]
        }
      ]
    },
    {
      "cell_type": "markdown",
      "source": [
        "Capitulo 7: Exercício  Refatorando o jogo da Forca"
      ],
      "metadata": {
        "id": "NW46vdnV4f_o"
      }
    },
    {
      "cell_type": "code",
      "source": [
        "import random\n",
        "\n",
        "def imprime_mensagem_abertura():\n",
        "    print(\"*********************************\")\n",
        "    print(\"*** Bem-vindo ao jogo da Forca! ***\")\n",
        "    print(\"*********************************\")\n",
        "\n",
        "def carrega_palavra_secreta():\n",
        "    arquivo = open(\"palavras.txt\", \"r\")\n",
        "    palavras = []\n",
        "\n",
        "    for linha in arquivo:\n",
        "        palavras.append(linha.strip().upper())\n",
        "\n",
        "    arquivo.close()\n",
        "    numero = random.randrange(0, len(palavras))\n",
        "    return palavras[numero]\n",
        "\n",
        "def inicializa_letras_acertadas(palavra):\n",
        "    return [\"_\" for _ in palavra]\n",
        "\n",
        "def pede_chute():\n",
        "    chute = input(\"Qual letra? \").strip().upper()\n",
        "    return chute\n",
        "\n",
        "def marca_chute_correto(chute, letras_acertadas, palavra_secreta):\n",
        "    for posicao, letra in enumerate(palavra_secreta):\n",
        "        if chute == letra:\n",
        "            letras_acertadas[posicao] = letra\n",
        "\n",
        "def imprime_mensagem_vencedor():\n",
        "    print(\"Parabéns, você ganhou!\")\n",
        "    print(\"       ___________      \")\n",
        "    print(\"      '._==_==_=_.'     \")\n",
        "    print(\"      .-\\\\:      /-.    \")\n",
        "    print(\"     | (|:.     |) |    \")\n",
        "    print(\"      '-|:.     |-'     \")\n",
        "    print(\"        \\\\::.    /      \")\n",
        "    print(\"         '::. .'        \")\n",
        "    print(\"           ) (          \")\n",
        "    print(\"         _.' '._        \")\n",
        "    print(\"        '-------'       \")\n",
        "\n",
        "def imprime_mensagem_perdedor(palavra_secreta):\n",
        "    print(\"Puxa, você foi enforcado!\")\n",
        "    print(f\"A palavra era: {palavra_secreta}\")\n",
        "    print(\"    _______________         \")\n",
        "    print(\"   /               \\\\       \")\n",
        "    print(\"  /                 \\\\      \")\n",
        "    print(\"//                   \\\\/\\\\  \")\n",
        "    print(\"\\\\|   XXXX     XXXX   | /   \")\n",
        "    print(\" |   XXXX     XXXX   |/    \")\n",
        "    print(\" |   XXX       XXX   |     \")\n",
        "    print(\" |                   |     \")\n",
        "    print(\" \\\\__      XXX      __/    \")\n",
        "    print(\"   |\\\\     XXX     /|      \")\n",
        "    print(\"   | |           | |       \")\n",
        "    print(\"   | I I I I I I I |       \")\n",
        "    print(\"   |  I I I I I I  |       \")\n",
        "    print(\"   \\\\_             _/      \")\n",
        "    print(\"     \\\\_         _/        \")\n",
        "    print(\"       \\\\_______/          \")\n",
        "\n",
        "def jogar():\n",
        "    imprime_mensagem_abertura()\n",
        "    palavra_secreta = carrega_palavra_secreta()\n",
        "    letras_acertadas = inicializa_letras_acertadas(palavra_secreta)\n",
        "\n",
        "    enforcou = False\n",
        "    acertou = False\n",
        "    erros = 0\n",
        "\n",
        "    print(letras_acertadas)\n",
        "\n",
        "    while not enforcou and not acertou:\n",
        "        chute = pede_chute()\n",
        "\n",
        "        if chute in palavra_secreta:\n",
        "            marca_chute_correto(chute, letras_acertadas, palavra_secreta)\n",
        "        else:\n",
        "            erros += 1\n",
        "            print(f\"Você errou! Restam {6 - erros} tentativas.\")\n",
        "\n",
        "        enforcou = erros == 6\n",
        "        acertou = \"_\" not in letras_acertadas\n",
        "\n",
        "        print(letras_acertadas)\n",
        "\n",
        "    if acertou:\n",
        "        imprime_mensagem_vencedor()\n",
        "    else:\n",
        "        imprime_mensagem_perdedor(palavra_secreta)\n",
        "\n",
        "# Executa o jogo se rodar diretamente este arquivo\n",
        "if __name__ == \"__main__\":\n",
        "    jogar()\n"
      ],
      "metadata": {
        "colab": {
          "base_uri": "https://localhost:8080/"
        },
        "id": "Xg_LJqYK4mx2",
        "outputId": "939198b8-7617-471d-bd76-0b2a480b6206"
      },
      "execution_count": null,
      "outputs": [
        {
          "output_type": "stream",
          "name": "stdout",
          "text": [
            "*********************************\n",
            "*** Bem-vindo ao jogo da Forca! ***\n",
            "*********************************\n",
            "['_', '_', '_', '_', '_', '_', '_']\n",
            "Qual letra? m\n",
            "['M', '_', '_', '_', '_', '_', '_']\n",
            "Qual letra? e\n",
            "Você errou! Restam 5 tentativas.\n",
            "['M', '_', '_', '_', '_', '_', '_']\n",
            "Qual letra? l\n",
            "Você errou! Restam 4 tentativas.\n",
            "['M', '_', '_', '_', '_', '_', '_']\n",
            "Qual letra? a\n",
            "['M', '_', '_', 'A', '_', '_', '_']\n",
            "Qual letra? n\n",
            "['M', '_', '_', 'A', 'N', '_', '_']\n",
            "Qual letra? L\n",
            "Você errou! Restam 3 tentativas.\n",
            "['M', '_', '_', 'A', 'N', '_', '_']\n",
            "Qual letra? c\n",
            "Você errou! Restam 2 tentativas.\n",
            "['M', '_', '_', 'A', 'N', '_', '_']\n",
            "Qual letra? n\n",
            "['M', '_', '_', 'A', 'N', '_', '_']\n",
            "Qual letra? e\n",
            "Você errou! Restam 1 tentativas.\n",
            "['M', '_', '_', 'A', 'N', '_', '_']\n",
            "Qual letra? r\n",
            "['M', '_', 'R', 'A', 'N', '_', '_']\n",
            "Qual letra? o\n",
            "['M', 'O', 'R', 'A', 'N', '_', 'O']\n",
            "Qual letra? g\n",
            "['M', 'O', 'R', 'A', 'N', 'G', 'O']\n",
            "Parabéns, você ganhou!\n",
            "       ___________      \n",
            "      '._==_==_=_.'     \n",
            "      .-\\:      /-.    \n",
            "     | (|:.     |) |    \n",
            "      '-|:.     |-'     \n",
            "        \\::.    /      \n",
            "         '::. .'        \n",
            "           ) (          \n",
            "         _.' '._        \n",
            "        '-------'       \n"
          ]
        }
      ]
    },
    {
      "cell_type": "markdown",
      "source": [
        "Capitulo 8: Criando uma conta\n"
      ],
      "metadata": {
        "id": "EgfPnFYxCjA0"
      }
    },
    {
      "cell_type": "code",
      "source": [
        "# Função para criar uma conta\n",
        "def cria_conta(numero, titular, saldo, limite):\n",
        "    conta = {\n",
        "        \"numero\": numero,\n",
        "        \"titular\": titular,\n",
        "        \"saldo\": saldo,\n",
        "        \"limite\": limite\n",
        "    }\n",
        "    return conta\n",
        "\n",
        "# Função para depositar valor na conta\n",
        "def deposita(conta, valor):\n",
        "    conta['saldo'] += valor\n",
        "\n",
        "# Função para sacar valor da conta\n",
        "def saca(conta, valor):\n",
        "    conta['saldo'] -= valor\n",
        "\n",
        "# Função para imprimir o extrato da conta\n",
        "def extrato(conta):\n",
        "    print(\"numero: {} \\nsaldo: {}\".format(conta['numero'], conta['saldo']))\n",
        "\n",
        "# Teste das funcionalidades\n",
        "if __name__ == \"__main__\":\n",
        "    conta = cria_conta('123-7', 'João', 500.0, 1000.0)\n",
        "\n",
        "    deposita(conta, 50.0)\n",
        "    extrato(conta)\n",
        "    # Saída esperada:\n",
        "    # numero: 123-7\n",
        "    # saldo: 550.0\n",
        "\n",
        "    saca(conta, 20.0)\n",
        "    extrato(conta)\n",
        "    # Saída esperada:\n",
        "    # numero: 123-7\n",
        "    # saldo: 530.0\n"
      ],
      "metadata": {
        "colab": {
          "base_uri": "https://localhost:8080/"
        },
        "id": "qfL9pA8MCwwB",
        "outputId": "67d58111-7f55-40b7-ce95-336d77f50174"
      },
      "execution_count": null,
      "outputs": [
        {
          "output_type": "stream",
          "name": "stdout",
          "text": [
            "numero: 123-7 \n",
            "saldo: 550.0\n",
            "numero: 123-7 \n",
            "saldo: 530.0\n"
          ]
        }
      ]
    },
    {
      "cell_type": "markdown",
      "source": [
        "Capitulo 8: Exercício Primeira classe Python\n"
      ],
      "metadata": {
        "id": "jynSzLLDGXbm"
      }
    },
    {
      "cell_type": "code",
      "source": [
        "# oo/conta.py\n",
        "\n",
        "class Conta:\n",
        "    \"\"\"\n",
        "    Classe que representa uma conta bancária.\n",
        "    \"\"\"\n",
        "\n",
        "    def __init__(self, numero, titular, saldo, limite):\n",
        "        \"\"\"\n",
        "        Inicializa uma nova conta com número, titular, saldo e limite.\n",
        "        \"\"\"\n",
        "        self.numero = numero\n",
        "        self.titular = titular\n",
        "        self.saldo = saldo\n",
        "        self.limite = limite\n",
        "\n",
        "    def deposita(self, valor):\n",
        "        \"\"\"\n",
        "        Realiza um depósito na conta se o valor for positivo.\n",
        "        \"\"\"\n",
        "        if valor > 0:\n",
        "            self.saldo += valor\n",
        "        else:\n",
        "            print(\"Valor de depósito inválido.\")\n",
        "\n",
        "    def saca(self, valor):\n",
        "        \"\"\"\n",
        "        Realiza um saque se houver saldo suficiente e o valor for positivo.\n",
        "        Retorna True se o saque for bem-sucedido, False caso contrário.\n",
        "        \"\"\"\n",
        "        if valor <= 0:\n",
        "            print(\"Valor de saque inválido.\")\n",
        "            return False\n",
        "        if self.saldo >= valor:\n",
        "            self.saldo -= valor\n",
        "            return True\n",
        "        else:\n",
        "            print(\"Saldo insuficiente.\")\n",
        "            return False\n",
        "\n",
        "    def extrato(self):\n",
        "        \"\"\"\n",
        "        Exibe o extrato da conta.\n",
        "        \"\"\"\n",
        "        print(f\"Conta: {self.numero}\\nTitular: {self.titular}\\nSaldo: R$ {self.saldo:.2f}\")\n",
        "\n",
        "    def transfere_para(self, destino, valor):\n",
        "        \"\"\"\n",
        "        Transfere um valor para outra conta, se possível.\n",
        "        Retorna True se a transferência foi realizada, False caso contrário.\n",
        "        \"\"\"\n",
        "        if self.saca(valor):\n",
        "            destino.deposita(valor)\n",
        "            return True\n",
        "        else:\n",
        "            print(\"Transferência não realizada.\")\n",
        "            return False\n"
      ],
      "metadata": {
        "id": "zmIk8vyuGhYw"
      },
      "execution_count": null,
      "outputs": []
    },
    {
      "cell_type": "markdown",
      "source": [
        "Capitulo 9: Exercicios Encapsulamento"
      ],
      "metadata": {
        "id": "h-WXOvMhK5mN"
      }
    },
    {
      "cell_type": "code",
      "source": [
        "# oo/conta.py\n",
        "\n",
        "class Conta:\n",
        "    \"\"\"\n",
        "    Classe que representa uma conta bancária com atributos protegidos,\n",
        "    acessos controlados por @property e restrição de criação de novos atributos.\n",
        "    \"\"\"\n",
        "\n",
        "    __slots__ = ['_numero', '_titular', '_saldo', '_limite']\n",
        "\n",
        "    def __init__(self, numero, titular, saldo, limite=1000.0):\n",
        "        self._numero = numero\n",
        "        self._titular = titular\n",
        "        self._saldo = saldo\n",
        "        self._limite = limite\n",
        "\n",
        "    # Getter e setter para saldo\n",
        "    @property\n",
        "    def saldo(self):\n",
        "        return self._saldo\n",
        "\n",
        "    @saldo.setter\n",
        "    def saldo(self, saldo):\n",
        "        if saldo < 0:\n",
        "            print(\"Saldo não pode ser negativo.\")\n",
        "        else:\n",
        "            self._saldo = saldo\n",
        "\n",
        "    # Getter para número\n",
        "    @property\n",
        "    def numero(self):\n",
        "        return self._numero\n",
        "\n",
        "    # Getter para titular\n",
        "    @property\n",
        "    def titular(self):\n",
        "        return self._titular\n",
        "\n",
        "    # Getter e setter para limite\n",
        "    @property\n",
        "    def limite(self):\n",
        "        return self._limite\n",
        "\n",
        "    @limite.setter\n",
        "    def limite(self, novo_limite):\n",
        "        if novo_limite < 0:\n",
        "            print(\"Limite não pode ser negativo.\")\n",
        "        else:\n",
        "            self._limite = novo_limite\n",
        "\n",
        "    def deposita(self, valor):\n",
        "        if valor > 0:\n",
        "            self._saldo += valor\n",
        "        else:\n",
        "            print(\"Valor de depósito inválido.\")\n",
        "\n",
        "    def saca(self, valor):\n",
        "        if valor <= 0:\n",
        "            print(\"Valor de saque inválido.\")\n",
        "            return False\n",
        "        if self._saldo >= valor:\n",
        "            self._saldo -= valor\n",
        "            return True\n",
        "        else:\n",
        "            print(\"Saldo insuficiente.\")\n",
        "            return False\n",
        "\n",
        "    def extrato(self):\n",
        "        print(f\"Conta: {self._numero}\\nTitular: {self._titular}\\nSaldo: R$ {self._saldo:.2f}\")\n",
        "\n",
        "    def transfere_para(self, destino, valor):\n",
        "        if self.saca(valor):\n",
        "            destino.deposita(valor)\n",
        "            return True\n",
        "        else:\n",
        "            print(\"Transferência não realizada.\")\n",
        "            return False\n"
      ],
      "metadata": {
        "id": "DWSDxZCCLVQ3"
      },
      "execution_count": null,
      "outputs": []
    },
    {
      "cell_type": "markdown",
      "source": [
        "Capitulo 10: Exercicio Criando projeto banco no PyCharm"
      ],
      "metadata": {
        "id": "xurbUTOPwXNs"
      }
    },
    {
      "cell_type": "code",
      "source": [
        "class Conta:\n",
        "\n",
        "    def __init__(self, numero, titular, saldo, limite):\n",
        "        self._numero = numero\n",
        "        self._titular = titular\n",
        "        self._saldo = saldo\n",
        "        self._limite = limite\n",
        "\n",
        "    # Propriedades\n",
        "    @property\n",
        "    def numero(self):\n",
        "        return self._numero\n",
        "\n",
        "    @property\n",
        "    def titular(self):\n",
        "        return self._titular\n",
        "\n",
        "    @property\n",
        "    def saldo(self):\n",
        "        return self._saldo\n",
        "\n",
        "    @property\n",
        "    def limite(self):\n",
        "        return self._limite\n",
        "\n",
        "    @limite.setter\n",
        "    def limite(self, novo_limite):\n",
        "        self._limite = novo_limite\n",
        "\n",
        "    # Métodos\n",
        "    def deposita(self, valor):\n",
        "        self._saldo += valor\n",
        "\n",
        "    def saca(self, valor):\n",
        "        if valor <= self._saldo + self._limite:\n",
        "            self._saldo -= valor\n",
        "        else:\n",
        "            print(\"Saldo insuficiente!\")\n",
        "\n",
        "    def extrato(self):\n",
        "        print(f\"Titular: {self._titular} - Saldo: R${self._saldo:.2f}\")\n",
        "\n",
        "    def transfere_para(self, destino, valor):\n",
        "        if valor <= self._saldo + self._limite:\n",
        "            self.saca(valor)\n",
        "            destino.deposita(valor)\n",
        "        else:\n",
        "            print(\"Transferência não realizada: saldo insuficiente.\")\n",
        "\n",
        "\n",
        "# Bloco principal\n",
        "if __name__ == '__main__':\n",
        "    conta1 = Conta('123-4', 'João', 1200.0, 1000.0)\n",
        "    conta2 = Conta('567-8', 'Maria', 1500.0, 500.0)\n",
        "\n",
        "    print(\"Titular da conta1:\", conta1.titular)\n",
        "\n",
        "    conta1.extrato()\n",
        "    conta1.deposita(300.0)\n",
        "    conta1.saca(500.0)\n",
        "    conta1.extrato()\n",
        "\n",
        "    conta2.extrato()\n",
        "    conta1.transfere_para(conta2, 700.0)\n",
        "    conta2.extrato()\n"
      ],
      "metadata": {
        "colab": {
          "base_uri": "https://localhost:8080/"
        },
        "id": "CcHBH8quwiCE",
        "outputId": "a9d9c7c0-6b5b-4c21-98da-43f3a7b60cb6"
      },
      "execution_count": null,
      "outputs": [
        {
          "output_type": "stream",
          "name": "stdout",
          "text": [
            "Titular da conta1: João\n",
            "Titular: João - Saldo: R$1200.00\n",
            "Titular: João - Saldo: R$1000.00\n",
            "Titular: Maria - Saldo: R$1500.00\n",
            "Titular: Maria - Saldo: R$2200.00\n"
          ]
        }
      ]
    },
    {
      "cell_type": "markdown",
      "source": [
        "Capitulo 11  Exercício: Herança e Polimorfismo"
      ],
      "metadata": {
        "id": "L4nYWQaBx5hv"
      }
    },
    {
      "cell_type": "code",
      "source": [
        "# Classe base Conta\n",
        "class Conta:\n",
        "    def __init__(self, numero, titular, saldo, limite=1000.0):\n",
        "        # Atributos privados (por convenção com \"_\")\n",
        "        self._numero = numero\n",
        "        self._titular = titular\n",
        "        self._saldo = saldo\n",
        "        self._limite = limite\n",
        "\n",
        "    # Propriedade para acessar o número da conta\n",
        "    @property\n",
        "    def numero(self):\n",
        "        return self._numero\n",
        "\n",
        "    # Propriedade para acessar o nome do titular\n",
        "    @property\n",
        "    def titular(self):\n",
        "        return self._titular\n",
        "\n",
        "    # Propriedade para acessar o saldo\n",
        "    @property\n",
        "    def saldo(self):\n",
        "        return self._saldo\n",
        "\n",
        "    # Propriedade para acessar o limite\n",
        "    @property\n",
        "    def limite(self):\n",
        "        return self._limite\n",
        "\n",
        "    # Setter para alterar o limite da conta\n",
        "    @limite.setter\n",
        "    def limite(self, novo_limite):\n",
        "        self._limite = novo_limite\n",
        "\n",
        "    # Método para depositar um valor\n",
        "    def deposita(self, valor):\n",
        "        self._saldo += valor\n",
        "\n",
        "    # Método para sacar um valor\n",
        "    def saca(self, valor):\n",
        "        if valor <= self._saldo + self._limite:\n",
        "            self._saldo -= valor\n",
        "        else:\n",
        "            print(\"Saldo insuficiente!\")\n",
        "\n",
        "    # Exibe o saldo da conta\n",
        "    def extrato(self):\n",
        "        print(f\"Titular: {self._titular} - Saldo: R${self._saldo:.2f}\")\n",
        "\n",
        "    # Transfere valor para outra conta\n",
        "    def transfere_para(self, destino, valor):\n",
        "        if valor <= self._saldo + self._limite:\n",
        "            self.saca(valor)\n",
        "            destino.deposita(valor)\n",
        "        else:\n",
        "            print(\"Transferência não realizada: saldo insuficiente.\")\n",
        "\n",
        "    # Atualiza o saldo com uma taxa simples (padrão)\n",
        "    def atualiza(self, taxa):\n",
        "        self._saldo += self._saldo * taxa\n",
        "        return self._saldo  # Necessário para AtualizadorDeContas\n",
        "\n",
        "    # Representação amigável da conta ao usar print(conta)\n",
        "    def __str__(self):\n",
        "        return (\n",
        "            f\"Dados da Conta:\\n\"\n",
        "            f\"Número: {self._numero}\\n\"\n",
        "            f\"Titular: {self._titular}\\n\"\n",
        "            f\"Saldo: {self._saldo:.2f}\\n\"\n",
        "            f\"Limite: {self._limite:.2f}\"\n",
        "        )\n",
        "\n",
        "\n",
        "# Classe filha: ContaCorrente\n",
        "class ContaCorrente(Conta):\n",
        "    # Atualiza com o dobro da taxa\n",
        "    def atualiza(self, taxa):\n",
        "        self._saldo += self._saldo * taxa * 2\n",
        "        return self._saldo\n",
        "\n",
        "    # Deposita com desconto de R$ 0,10 (taxa bancária)\n",
        "    def deposita(self, valor):\n",
        "        self._saldo += valor - 0.10\n",
        "\n",
        "\n",
        "# Classe filha: ContaPoupanca\n",
        "class ContaPoupanca(Conta):\n",
        "    # Atualiza com o triplo da taxa\n",
        "    def atualiza(self, taxa):\n",
        "        self._saldo += self._saldo * taxa * 3\n",
        "        return self._saldo\n",
        "\n",
        "\n",
        "# Classe responsável por atualizar várias contas\n",
        "class AtualizadorDeContas:\n",
        "    def __init__(self, selic, saldo_total=0):\n",
        "        # Taxa de atualização (como a SELIC)\n",
        "        self._selic = selic\n",
        "        self._saldo_total = saldo_total\n",
        "\n",
        "    # Propriedade para acessar o saldo total atualizado\n",
        "    @property\n",
        "    def saldo_total(self):\n",
        "        return self._saldo_total\n",
        "\n",
        "    # Roda a atualização de uma conta e acumula saldo\n",
        "    def roda(self, conta):\n",
        "        print(\"Saldo da Conta Antes: {:.2f}\".format(conta.saldo))\n",
        "        saldo_atualizado = conta.atualiza(self._selic)\n",
        "        self._saldo_total += saldo_atualizado\n",
        "        print(\"Saldo da Conta Depois: {:.2f}\".format(saldo_atualizado))\n",
        "\n",
        "\n",
        "# Código de teste - só roda se o arquivo for executado diretamente\n",
        "if __name__ == '__main__':\n",
        "    # Criando as contas\n",
        "    c = Conta('123-4', 'João', 1000.0)\n",
        "    cc = ContaCorrente('123-5', 'José', 1000.0)\n",
        "    cp = ContaPoupanca('123-6', 'Maria', 1000.0)\n",
        "\n",
        "    print(\"\\n--- Atualização individual ---\")\n",
        "    c.atualiza(0.01)   # 1%\n",
        "    cc.atualiza(0.01)  # 2%\n",
        "    cp.atualiza(0.01)  # 3%\n",
        "\n",
        "    # Mostrando saldos após atualização\n",
        "    print(\"Conta:\", c.saldo)\n",
        "    print(\"Conta Corrente:\", cc.saldo)\n",
        "    print(\"Conta Poupança:\", cp.saldo)\n",
        "\n",
        "    print(\"\\n--- Testando __str__ ---\")\n",
        "    print(cc)  # Usa o método __str__\n",
        "\n",
        "    print(\"\\n--- Rodando AtualizadorDeContas ---\")\n",
        "    adc = AtualizadorDeContas(0.01)  # Taxa de 1%\n",
        "\n",
        "    adc.roda(c)\n",
        "    adc.roda(cc)\n",
        "    adc.roda(cp)\n",
        "\n",
        "    # Mostra o saldo total atualizado\n",
        "    print(\"Saldo total após atualização:\", adc.saldo_total)\n"
      ],
      "metadata": {
        "colab": {
          "base_uri": "https://localhost:8080/"
        },
        "id": "GdEGVxfxx_oE",
        "outputId": "24d81455-c17d-4aba-f1f5-66fbda46269d"
      },
      "execution_count": null,
      "outputs": [
        {
          "output_type": "stream",
          "name": "stdout",
          "text": [
            "\n",
            "--- Atualização individual ---\n",
            "Conta: 1010.0\n",
            "Conta Corrente: 1020.0\n",
            "Conta Poupança: 1030.0\n",
            "\n",
            "--- Testando __str__ ---\n",
            "Dados da Conta:\n",
            "Número: 123-5\n",
            "Titular: José\n",
            "Saldo: 1020.00\n",
            "Limite: 1000.00\n",
            "\n",
            "--- Rodando AtualizadorDeContas ---\n",
            "Saldo da Conta Antes: 1010.00\n",
            "Saldo da Conta Depois: 1020.10\n",
            "Saldo da Conta Antes: 1020.00\n",
            "Saldo da Conta Depois: 1040.40\n",
            "Saldo da Conta Antes: 1030.00\n",
            "Saldo da Conta Depois: 1060.90\n",
            "Saldo total após atualização: 3121.4\n"
          ]
        }
      ]
    },
    {
      "cell_type": "markdown",
      "source": [
        "Capitulo 11: Exercicio classe abstrata"
      ],
      "metadata": {
        "id": "8Sx6S3xSydj3"
      }
    },
    {
      "cell_type": "code",
      "source": [
        "import abc\n",
        "\n",
        "# Classe abstrata\n",
        "class Conta(abc.ABC):\n",
        "\n",
        "    def __init__(self, numero, titular, saldo=0.0, limite=1000.0):\n",
        "        self._numero = numero\n",
        "        self._titular = titular\n",
        "        self._saldo = saldo\n",
        "        self._limite = limite\n",
        "\n",
        "    @property\n",
        "    def saldo(self):\n",
        "        return self._saldo\n",
        "\n",
        "    @property\n",
        "    def titular(self):\n",
        "        return self._titular\n",
        "\n",
        "    def deposita(self, valor):\n",
        "        self._saldo += valor\n",
        "\n",
        "    def saca(self, valor):\n",
        "        if valor <= self._saldo + self._limite:\n",
        "            self._saldo -= valor\n",
        "        else:\n",
        "            print(\"Saldo insuficiente!\")\n",
        "\n",
        "    def transfere_para(self, destino, valor):\n",
        "        if valor <= self._saldo + self._limite:\n",
        "            self.saca(valor)\n",
        "            destino.deposita(valor)\n",
        "        else:\n",
        "            print(\"Transferência não realizada.\")\n",
        "\n",
        "    # Método abstrato que **deve** ser implementado nas subclasses\n",
        "    @abc.abstractmethod\n",
        "    def atualiza(self, taxa):\n",
        "        pass\n",
        "\n",
        "\n",
        "# Subclasse concreta: ContaCorrente\n",
        "class ContaCorrente(Conta):\n",
        "    def atualiza(self, taxa):\n",
        "        self._saldo += self._saldo * taxa * 2\n",
        "\n",
        "    def deposita(self, valor):\n",
        "        self._saldo += valor - 0.10\n",
        "\n",
        "\n",
        "# Subclasse concreta: ContaPoupanca\n",
        "class ContaPoupanca(Conta):\n",
        "    def atualiza(self, taxa):\n",
        "        self._saldo += self._saldo * taxa * 3\n",
        "\n",
        "\n",
        "# Subclasse nova: ContaInvestimento\n",
        "class ContaInvestimento(Conta):\n",
        "    def atualiza(self, taxa):\n",
        "        self._saldo += self._saldo * taxa * 5\n",
        "\n",
        "\n",
        "# Testes\n",
        "if __name__ == '__main__':\n",
        "    # ❌ Tentando instanciar uma classe abstrata gera erro\n",
        "    try:\n",
        "        c = Conta('000-0', 'Teste')\n",
        "    except TypeError as e:\n",
        "        print(\"Erro ao instanciar Conta:\", e)\n",
        "\n",
        "    # ✅ Instanciando classes concretas\n",
        "    cc = ContaCorrente('123-4', 'João', 1000.0)\n",
        "    cp = ContaPoupanca('123-5', 'José', 1000.0)\n",
        "\n",
        "    cc.atualiza(0.01)\n",
        "    cp.atualiza(0.01)\n",
        "\n",
        "    print(\"Saldo Conta Corrente:\", cc.saldo)  # Esperado: 1000 + 2%\n",
        "    print(\"Saldo Conta Poupança:\", cp.saldo)  # Esperado: 1000 + 3%\n",
        "\n",
        "    # ✅ Instanciando e testando ContaInvestimento\n",
        "    ci = ContaInvestimento('123-6', 'Maria', 1000.0)\n",
        "    ci.deposita(1000.0)\n",
        "    ci.atualiza(0.01)\n",
        "\n",
        "    print(\"Saldo Conta Investimento:\", ci.saldo)  # Esperado: 2000 + 5%\n"
      ],
      "metadata": {
        "colab": {
          "base_uri": "https://localhost:8080/"
        },
        "id": "TX3o1kOQ06nU",
        "outputId": "a30c8df1-96dc-4bf5-dcc0-1270e84f005c"
      },
      "execution_count": null,
      "outputs": [
        {
          "output_type": "stream",
          "name": "stdout",
          "text": [
            "Erro ao instanciar Conta: Can't instantiate abstract class Conta with abstract method atualiza\n",
            "Saldo Conta Corrente: 1020.0\n",
            "Saldo Conta Poupança: 1030.0\n",
            "Saldo Conta Investimento: 2100.0\n"
          ]
        }
      ]
    },
    {
      "cell_type": "markdown",
      "source": [
        "Capitulo 12 Exercicio Mix-ins"
      ],
      "metadata": {
        "id": "Rh5LSrN_1f23"
      }
    },
    {
      "cell_type": "code",
      "source": [
        "import abc\n",
        "\n",
        "# Classe abstrata Conta\n",
        "class Conta(abc.ABC):\n",
        "\n",
        "    def __init__(self, numero, titular, saldo=0.0, limite=1000.0):\n",
        "        self._numero = numero\n",
        "        self._titular = titular\n",
        "        self._saldo = saldo\n",
        "        self._limite = limite\n",
        "\n",
        "    @property\n",
        "    def saldo(self):\n",
        "        return self._saldo\n",
        "\n",
        "    @property\n",
        "    def titular(self):\n",
        "        return self._titular\n",
        "\n",
        "    def deposita(self, valor):\n",
        "        self._saldo += valor\n",
        "\n",
        "    def saca(self, valor):\n",
        "        if valor <= self._saldo + self._limite:\n",
        "            self._saldo -= valor\n",
        "        else:\n",
        "            print(\"Saldo insuficiente!\")\n",
        "\n",
        "    @abc.abstractmethod\n",
        "    def atualiza(self, taxa):\n",
        "        pass\n",
        "\n",
        "# Mix-In para itens tributáveis\n",
        "class TributavelMixIn:\n",
        "    def get_valor_imposto(self):\n",
        "        pass\n",
        "\n",
        "# ContaCorrente é tributável (herda do mix-in)\n",
        "class ContaCorrente(Conta, TributavelMixIn):\n",
        "\n",
        "    def atualiza(self, taxa):\n",
        "        self._saldo += self._saldo * taxa * 2\n",
        "\n",
        "    def deposita(self, valor):\n",
        "        self._saldo += valor - 0.10\n",
        "\n",
        "    def get_valor_imposto(self):\n",
        "        return self._saldo * 0.01\n"
      ],
      "metadata": {
        "id": "jPhEEbFy2AoV"
      },
      "execution_count": null,
      "outputs": []
    },
    {
      "cell_type": "markdown",
      "source": [
        "Capitulo 13 Exercícios: Exceções"
      ],
      "metadata": {
        "id": "LoN3Q3M57sFf"
      }
    },
    {
      "cell_type": "code",
      "source": [
        "import abc\n",
        "\n",
        "# Define custom exception\n",
        "class SaldoInsuficienteError(Exception):\n",
        "    pass\n",
        "\n",
        "# Classe abstrata Conta\n",
        "class Conta(abc.ABC):\n",
        "\n",
        "    def __init__(self, numero, titular, saldo=0.0, limite=1000.0):\n",
        "        self._numero = numero\n",
        "        self._titular = titular\n",
        "        self._saldo = saldo\n",
        "        self._limite = limite\n",
        "\n",
        "    @property\n",
        "    def saldo(self):\n",
        "        return self._saldo\n",
        "\n",
        "    @property\n",
        "    def titular(self):\n",
        "        return self._titular\n",
        "\n",
        "    def deposita(self, valor):\n",
        "        if valor <= 0:\n",
        "            raise ValueError(\"O valor a ser depositado deve ser um número positivo.\")\n",
        "        self._saldo += valor\n",
        "\n",
        "    def saca(self, valor):\n",
        "        if valor <= 0:\n",
        "            raise ValueError(\"O valor a ser sacado deve ser um número positivo.\")\n",
        "        if valor <= self._saldo + self._limite:\n",
        "            self._saldo -= valor\n",
        "        else:\n",
        "            raise SaldoInsuficienteError(\"Você não possui saldo suficiente para concluir esta operação.\")\n",
        "\n",
        "\n",
        "    def transfere_para(self, destino, valor):\n",
        "        # Use the saca method to leverage its validation and exception handling\n",
        "        self.saca(valor) # This will raise SaldoInsuficienteError or ValueError if necessary\n",
        "        destino.deposita(valor)\n",
        "\n",
        "\n",
        "    @abc.abstractmethod\n",
        "    def atualiza(self, taxa):\n",
        "        pass\n",
        "\n",
        "# Mix-In para itens tributáveis\n",
        "class TributavelMixIn:\n",
        "    def get_valor_imposto(self):\n",
        "        pass\n",
        "\n",
        "# ContaCorrente é tributável (herda do mix-in)\n",
        "class ContaCorrente(Conta, TributavelMixIn):\n",
        "\n",
        "    def atualiza(self, taxa):\n",
        "        self._saldo += self._saldo * taxa * 2\n",
        "\n",
        "    def deposita(self, valor):\n",
        "        # Call the parent class deposita and then apply the fee\n",
        "        super().deposita(valor)\n",
        "        self._saldo -= 0.10 # Apply the deposit fee\n",
        "\n",
        "\n",
        "    def get_valor_imposto(self):\n",
        "        return self._saldo * 0.01\n",
        "\n",
        "\n",
        "# main.py\n",
        "if __name__ == '__main__':\n",
        "    print(\"Teste 1: Saque com valor negativo\")\n",
        "    cc = ContaCorrente('123-4', 'João', 1000.0)\n",
        "    valor = -1000.0\n",
        "\n",
        "    try:\n",
        "        cc.saca(valor)\n",
        "        print(f'Saque de {valor} realizado com sucesso.')\n",
        "    except ValueError as e:\n",
        "        print(f'Erro: {e}')\n",
        "\n",
        "    print(\"\\nTeste 2: Saque maior que o saldo\")\n",
        "    cc = ContaCorrente('123-4', 'João', 1000.0)\n",
        "    valor = 5000.0\n",
        "\n",
        "    try:\n",
        "        cc.saca(valor)\n",
        "        print(f'Saque de {valor} realizado com sucesso.')\n",
        "    except ValueError as e:\n",
        "        print(f'Erro: {e}')\n",
        "    except SaldoInsuficienteError as e:\n",
        "        print(f'Erro: {e}')\n",
        "\n",
        "    print(\"\\nTeste 3: Depósito com valor negativo\")\n",
        "    cc = ContaCorrente('123-4', 'João', 1000.0)\n",
        "    valor = -500.0\n",
        "\n",
        "    try:\n",
        "        cc.deposita(valor)\n",
        "        print(f'Depósito de {valor} realizado com sucesso.')\n",
        "    except ValueError as e:\n",
        "        print(f'Erro: {e}')"
      ],
      "metadata": {
        "colab": {
          "base_uri": "https://localhost:8080/"
        },
        "collapsed": true,
        "id": "zOj9C7pU7vI8",
        "outputId": "027835b4-a5f0-4448-9813-3150575c3f24"
      },
      "execution_count": null,
      "outputs": [
        {
          "output_type": "stream",
          "name": "stdout",
          "text": [
            "Teste 1: Saque com valor negativo\n",
            "Erro: O valor a ser sacado deve ser um número positivo.\n",
            "\n",
            "Teste 2: Saque maior que o saldo\n",
            "Erro: Você não possui saldo suficiente para concluir esta operação.\n",
            "\n",
            "Teste 3: Depósito com valor negativo\n",
            "Erro: O valor a ser depositado deve ser um número positivo.\n"
          ]
        }
      ]
    },
    {
      "cell_type": "markdown",
      "source": [
        "Capitulo 14 Exercício: Criando nossa Sequência"
      ],
      "metadata": {
        "id": "qdkfqo3zHZI0"
      }
    },
    {
      "cell_type": "code",
      "source": [
        "import abc\n",
        "from collections.abc import MutableSequence\n",
        "\n",
        "# Define custom exception\n",
        "class SaldoInsuficienteError(Exception):\n",
        "    pass\n",
        "\n",
        "# Classe abstrata Conta\n",
        "class Conta(abc.ABC):\n",
        "\n",
        "    def __init__(self, numero, titular, saldo=0.0, limite=1000.0):\n",
        "        self._numero = numero\n",
        "        self._titular = titular\n",
        "        self._saldo = saldo\n",
        "        self._limite = limite\n",
        "\n",
        "    @property\n",
        "    def saldo(self):\n",
        "        return self._saldo\n",
        "\n",
        "    @property\n",
        "    def titular(self):\n",
        "        return self._titular\n",
        "\n",
        "    def deposita(self, valor):\n",
        "        if valor <= 0:\n",
        "            raise ValueError(\"O valor a ser depositado deve ser um número positivo.\")\n",
        "        self._saldo += valor\n",
        "\n",
        "    def saca(self, valor):\n",
        "        if valor <= 0:\n",
        "            raise ValueError(\"O valor a ser sacado deve ser um número positivo.\")\n",
        "        if valor <= self._saldo + self._limite:\n",
        "            self._saldo -= valor\n",
        "        else:\n",
        "            raise SaldoInsuficienteError(\"Você não possui saldo suficiente para concluir esta operação.\")\n",
        "\n",
        "    def transfere_para(self, destino, valor):\n",
        "        # Use the saca method to leverage its validation and exception handling\n",
        "        self.saca(valor) # This will raise SaldoInsuficienteError or ValueError if necessary\n",
        "        destino.deposita(valor)\n",
        "\n",
        "    @abc.abstractmethod\n",
        "    def atualiza(self, taxa):\n",
        "        pass\n",
        "\n",
        "# Mix-In para itens tributáveis\n",
        "class TributavelMixIn:\n",
        "    def get_valor_imposto(self):\n",
        "        pass\n",
        "\n",
        "# ContaCorrente é tributável (herda do mix-in)\n",
        "class ContaCorrente(Conta, TributavelMixIn):\n",
        "\n",
        "    def atualiza(self, taxa):\n",
        "        self._saldo += self._saldo * taxa * 2\n",
        "\n",
        "    def deposita(self, valor):\n",
        "        # Call the parent class deposita and then apply the fee\n",
        "        super().deposita(valor)\n",
        "        self._saldo -= 0.10 # Apply the deposit fee\n",
        "\n",
        "    def get_valor_imposto(self):\n",
        "        return self._saldo * 0.01\n",
        "\n",
        "# Now define the Contas class which uses ContaCorrente\n",
        "class Contas(MutableSequence):\n",
        "    def __init__(self):\n",
        "        self._dados = []\n",
        "\n",
        "    def __len__(self):\n",
        "        return len(self._dados)\n",
        "\n",
        "    def __getitem__(self, posicao):\n",
        "        return self._dados[posicao]\n",
        "\n",
        "    def __setitem__(self, posicao, valor):\n",
        "        if isinstance(valor, ContaCorrente):\n",
        "            self._dados[posicao] = valor\n",
        "        else:\n",
        "            raise TypeError(\"Valor atribuído não é uma ContaCorrente\")\n",
        "\n",
        "    def __delitem__(self, posicao):\n",
        "        del self._dados[posicao]\n",
        "\n",
        "    def insert(self, posicao, valor):\n",
        "        if isinstance(valor, ContaCorrente):\n",
        "            self._dados.insert(posicao, valor)\n",
        "        else:\n",
        "            raise TypeError(\"Valor inserido não é uma ContaCorrente\")\n",
        "\n",
        "    def get_valores_impostos(self):\n",
        "        return [(conta.saldo, conta.get_valor_imposto()) for conta in self._dados]\n",
        "\n",
        "    def carregar_dados(self, caminho_arquivo):\n",
        "        with open(caminho_arquivo, 'r') as arquivo:\n",
        "            for linha in arquivo:\n",
        "                dados = linha.strip().split(',')\n",
        "                if len(dados) == 4:\n",
        "                    numero, titular, saldo, limite = dados\n",
        "                    conta = ContaCorrente(numero, titular, float(saldo), float(limite))\n",
        "                    self.append(conta)"
      ],
      "metadata": {
        "id": "XGGWQsgRH6XD"
      },
      "execution_count": null,
      "outputs": []
    }
  ]
}